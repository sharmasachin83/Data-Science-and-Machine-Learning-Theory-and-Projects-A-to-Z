{
  "nbformat": 4,
  "nbformat_minor": 0,
  "metadata": {
    "colab": {
      "provenance": [],
      "authorship_tag": "ABX9TyM8OJzYsa9o/nRGB1qt8G3w",
      "include_colab_link": true
    },
    "kernelspec": {
      "name": "python3",
      "display_name": "Python 3"
    },
    "language_info": {
      "name": "python"
    }
  },
  "cells": [
    {
      "cell_type": "markdown",
      "metadata": {
        "id": "view-in-github",
        "colab_type": "text"
      },
      "source": [
        "<a href=\"https://colab.research.google.com/github/sharmasachin83/Data-Science-and-Machine-Learning-Theory-and-Projects-A-to-Z/blob/main/MFI_Parameterization.ipynb\" target=\"_parent\"><img src=\"https://colab.research.google.com/assets/colab-badge.svg\" alt=\"Open In Colab\"/></a>"
      ]
    },
    {
      "cell_type": "code",
      "execution_count": null,
      "metadata": {
        "id": "N_PlRwCPM2Tb",
        "colab": {
          "base_uri": "https://localhost:8080/"
        },
        "outputId": "e7129388-2d93-4920-e4ee-322a6920ea2e"
      },
      "outputs": [
        {
          "output_type": "stream",
          "name": "stderr",
          "text": [
            "<ipython-input-6-4ed49fa60b09>:4: MatplotlibDeprecationWarning: The seaborn styles shipped by Matplotlib are deprecated since 3.6, as they no longer correspond to the styles shipped by seaborn. However, they will remain available as 'seaborn-v0_8-<style>'. Alternatively, directly use the seaborn API instead.\n",
            "  plt.style.use(\"seaborn-whitegrid\")\n"
          ]
        }
      ],
      "source": [
        "import pandas as pd\n",
        "from statsmodels.stats.outliers_influence import variance_inflation_factor\n",
        "import matplotlib.pyplot as plt\n",
        "plt.style.use(\"seaborn-whitegrid\")"
      ]
    },
    {
      "cell_type": "code",
      "source": [
        "#MFI200 = pd.read_excel('MFI_Peer_Comparison_13032023_NoSec8.xlsx',sheet_name='MFI0-200', usecols=\"B : F\")\n",
        "#MFI1000 = pd.read_excel('MFI_Peer_Comparison_14112022.xlsx',sheet_name='MFI201-1000', usecols=\"B : F\")\n",
        "#MFI2000 = pd.read_excel('MFI_Peer_Comparison_31012023.xlsx',sheet_name='MFI1001-2000', usecols=\"B : F\")\n",
        "#MFI3000 = pd.read_excel('MFI_Peer_Comparison_14112022.xlsx',sheet_name='MFI2001-3000', usecols=\"B : F\")\n",
        "#MFI6000 = pd.read_excel('MFI_Peer_Comparison_01092022.xlsx',sheet_name='MFI4500-6000', usecols=\"B : F\")\n",
        "MFI6000plus = pd.read_excel('MFI_Peer_Comparison_13032023_NoSec8.xlsx',sheet_name='MFI6000+', usecols=\"B : F\")"
      ],
      "metadata": {
        "id": "KEx2oWG1zCIR"
      },
      "execution_count": null,
      "outputs": []
    },
    {
      "cell_type": "code",
      "source": [
        "import numpy as np"
      ],
      "metadata": {
        "id": "Z6hchHfgPKTf"
      },
      "execution_count": null,
      "outputs": []
    },
    {
      "cell_type": "code",
      "source": [
        "from sklearn import preprocessing\n",
        "X_Value = MFI6000plus.copy().values\n",
        "min_max_scaler = preprocessing.MinMaxScaler(feature_range=(0, 1), copy=True, clip=False)\n",
        "X_scaled = min_max_scaler.fit_transform(X_Value)\n",
        "X_df_scaled = pd.DataFrame(X_scaled, columns=MFI6000plus.columns)"
      ],
      "metadata": {
        "id": "IQEPPFdexP6l"
      },
      "execution_count": null,
      "outputs": []
    },
    {
      "cell_type": "code",
      "source": [
        "X_df_scaled"
      ],
      "metadata": {
        "colab": {
          "base_uri": "https://localhost:8080/",
          "height": 206
        },
        "id": "54cwYNfT8CMJ",
        "outputId": "3a93e122-687e-4447-d248-f15bb135a4fb"
      },
      "execution_count": null,
      "outputs": [
        {
          "output_type": "execute_result",
          "data": {
            "text/plain": [
              "       GNPA       DER       ROA       NIM  OPEX Ratio\n",
              "0  0.831985  0.539024  0.698926  1.000000    0.124764\n",
              "1  0.000000  0.000000  0.059143  0.000000    0.000000\n",
              "2  1.000000  0.645084  0.000000  0.559585    0.370510\n",
              "3  0.516843  0.856098  0.111677  0.143342    1.000000\n",
              "4  0.857566  1.000000  1.000000  0.453368    0.204159"
            ],
            "text/html": [
              "\n",
              "  <div id=\"df-47ba7264-495a-4e97-8cc1-53c25f121521\">\n",
              "    <div class=\"colab-df-container\">\n",
              "      <div>\n",
              "<style scoped>\n",
              "    .dataframe tbody tr th:only-of-type {\n",
              "        vertical-align: middle;\n",
              "    }\n",
              "\n",
              "    .dataframe tbody tr th {\n",
              "        vertical-align: top;\n",
              "    }\n",
              "\n",
              "    .dataframe thead th {\n",
              "        text-align: right;\n",
              "    }\n",
              "</style>\n",
              "<table border=\"1\" class=\"dataframe\">\n",
              "  <thead>\n",
              "    <tr style=\"text-align: right;\">\n",
              "      <th></th>\n",
              "      <th>GNPA</th>\n",
              "      <th>DER</th>\n",
              "      <th>ROA</th>\n",
              "      <th>NIM</th>\n",
              "      <th>OPEX Ratio</th>\n",
              "    </tr>\n",
              "  </thead>\n",
              "  <tbody>\n",
              "    <tr>\n",
              "      <th>0</th>\n",
              "      <td>0.831985</td>\n",
              "      <td>0.539024</td>\n",
              "      <td>0.698926</td>\n",
              "      <td>1.000000</td>\n",
              "      <td>0.124764</td>\n",
              "    </tr>\n",
              "    <tr>\n",
              "      <th>1</th>\n",
              "      <td>0.000000</td>\n",
              "      <td>0.000000</td>\n",
              "      <td>0.059143</td>\n",
              "      <td>0.000000</td>\n",
              "      <td>0.000000</td>\n",
              "    </tr>\n",
              "    <tr>\n",
              "      <th>2</th>\n",
              "      <td>1.000000</td>\n",
              "      <td>0.645084</td>\n",
              "      <td>0.000000</td>\n",
              "      <td>0.559585</td>\n",
              "      <td>0.370510</td>\n",
              "    </tr>\n",
              "    <tr>\n",
              "      <th>3</th>\n",
              "      <td>0.516843</td>\n",
              "      <td>0.856098</td>\n",
              "      <td>0.111677</td>\n",
              "      <td>0.143342</td>\n",
              "      <td>1.000000</td>\n",
              "    </tr>\n",
              "    <tr>\n",
              "      <th>4</th>\n",
              "      <td>0.857566</td>\n",
              "      <td>1.000000</td>\n",
              "      <td>1.000000</td>\n",
              "      <td>0.453368</td>\n",
              "      <td>0.204159</td>\n",
              "    </tr>\n",
              "  </tbody>\n",
              "</table>\n",
              "</div>\n",
              "      <button class=\"colab-df-convert\" onclick=\"convertToInteractive('df-47ba7264-495a-4e97-8cc1-53c25f121521')\"\n",
              "              title=\"Convert this dataframe to an interactive table.\"\n",
              "              style=\"display:none;\">\n",
              "        \n",
              "  <svg xmlns=\"http://www.w3.org/2000/svg\" height=\"24px\"viewBox=\"0 0 24 24\"\n",
              "       width=\"24px\">\n",
              "    <path d=\"M0 0h24v24H0V0z\" fill=\"none\"/>\n",
              "    <path d=\"M18.56 5.44l.94 2.06.94-2.06 2.06-.94-2.06-.94-.94-2.06-.94 2.06-2.06.94zm-11 1L8.5 8.5l.94-2.06 2.06-.94-2.06-.94L8.5 2.5l-.94 2.06-2.06.94zm10 10l.94 2.06.94-2.06 2.06-.94-2.06-.94-.94-2.06-.94 2.06-2.06.94z\"/><path d=\"M17.41 7.96l-1.37-1.37c-.4-.4-.92-.59-1.43-.59-.52 0-1.04.2-1.43.59L10.3 9.45l-7.72 7.72c-.78.78-.78 2.05 0 2.83L4 21.41c.39.39.9.59 1.41.59.51 0 1.02-.2 1.41-.59l7.78-7.78 2.81-2.81c.8-.78.8-2.07 0-2.86zM5.41 20L4 18.59l7.72-7.72 1.47 1.35L5.41 20z\"/>\n",
              "  </svg>\n",
              "      </button>\n",
              "      \n",
              "  <style>\n",
              "    .colab-df-container {\n",
              "      display:flex;\n",
              "      flex-wrap:wrap;\n",
              "      gap: 12px;\n",
              "    }\n",
              "\n",
              "    .colab-df-convert {\n",
              "      background-color: #E8F0FE;\n",
              "      border: none;\n",
              "      border-radius: 50%;\n",
              "      cursor: pointer;\n",
              "      display: none;\n",
              "      fill: #1967D2;\n",
              "      height: 32px;\n",
              "      padding: 0 0 0 0;\n",
              "      width: 32px;\n",
              "    }\n",
              "\n",
              "    .colab-df-convert:hover {\n",
              "      background-color: #E2EBFA;\n",
              "      box-shadow: 0px 1px 2px rgba(60, 64, 67, 0.3), 0px 1px 3px 1px rgba(60, 64, 67, 0.15);\n",
              "      fill: #174EA6;\n",
              "    }\n",
              "\n",
              "    [theme=dark] .colab-df-convert {\n",
              "      background-color: #3B4455;\n",
              "      fill: #D2E3FC;\n",
              "    }\n",
              "\n",
              "    [theme=dark] .colab-df-convert:hover {\n",
              "      background-color: #434B5C;\n",
              "      box-shadow: 0px 1px 3px 1px rgba(0, 0, 0, 0.15);\n",
              "      filter: drop-shadow(0px 1px 2px rgba(0, 0, 0, 0.3));\n",
              "      fill: #FFFFFF;\n",
              "    }\n",
              "  </style>\n",
              "\n",
              "      <script>\n",
              "        const buttonEl =\n",
              "          document.querySelector('#df-47ba7264-495a-4e97-8cc1-53c25f121521 button.colab-df-convert');\n",
              "        buttonEl.style.display =\n",
              "          google.colab.kernel.accessAllowed ? 'block' : 'none';\n",
              "\n",
              "        async function convertToInteractive(key) {\n",
              "          const element = document.querySelector('#df-47ba7264-495a-4e97-8cc1-53c25f121521');\n",
              "          const dataTable =\n",
              "            await google.colab.kernel.invokeFunction('convertToInteractive',\n",
              "                                                     [key], {});\n",
              "          if (!dataTable) return;\n",
              "\n",
              "          const docLinkHtml = 'Like what you see? Visit the ' +\n",
              "            '<a target=\"_blank\" href=https://colab.research.google.com/notebooks/data_table.ipynb>data table notebook</a>'\n",
              "            + ' to learn more about interactive tables.';\n",
              "          element.innerHTML = '';\n",
              "          dataTable['output_type'] = 'display_data';\n",
              "          await google.colab.output.renderOutput(dataTable, element);\n",
              "          const docLink = document.createElement('div');\n",
              "          docLink.innerHTML = docLinkHtml;\n",
              "          element.appendChild(docLink);\n",
              "        }\n",
              "      </script>\n",
              "    </div>\n",
              "  </div>\n",
              "  "
            ]
          },
          "metadata": {},
          "execution_count": 10
        }
      ]
    },
    {
      "cell_type": "code",
      "source": [
        "X_df_scaled['Entity_Mean'] = X_df_scaled.mean(axis=1)"
      ],
      "metadata": {
        "id": "fQiXUYWX1ssf"
      },
      "execution_count": null,
      "outputs": []
    },
    {
      "cell_type": "code",
      "source": [
        "X_df_scaled"
      ],
      "metadata": {
        "colab": {
          "base_uri": "https://localhost:8080/",
          "height": 143
        },
        "id": "oaG_Kcy715ui",
        "outputId": "51adaed5-b50f-4589-876c-e0b525b7f98c"
      },
      "execution_count": null,
      "outputs": [
        {
          "output_type": "execute_result",
          "data": {
            "text/plain": [
              "        DER       ROA      GNPA      OPEX  Entity_Mean\n",
              "0  0.000000  1.000000  0.000000  0.000000     0.250000\n",
              "1  0.193966  0.172107  1.000000  1.000000     0.591518\n",
              "2  1.000000  0.000000  0.621212  0.193778     0.453748"
            ],
            "text/html": [
              "\n",
              "  <div id=\"df-0461d08a-4665-4123-ae44-70b018c43337\">\n",
              "    <div class=\"colab-df-container\">\n",
              "      <div>\n",
              "<style scoped>\n",
              "    .dataframe tbody tr th:only-of-type {\n",
              "        vertical-align: middle;\n",
              "    }\n",
              "\n",
              "    .dataframe tbody tr th {\n",
              "        vertical-align: top;\n",
              "    }\n",
              "\n",
              "    .dataframe thead th {\n",
              "        text-align: right;\n",
              "    }\n",
              "</style>\n",
              "<table border=\"1\" class=\"dataframe\">\n",
              "  <thead>\n",
              "    <tr style=\"text-align: right;\">\n",
              "      <th></th>\n",
              "      <th>DER</th>\n",
              "      <th>ROA</th>\n",
              "      <th>GNPA</th>\n",
              "      <th>OPEX</th>\n",
              "      <th>Entity_Mean</th>\n",
              "    </tr>\n",
              "  </thead>\n",
              "  <tbody>\n",
              "    <tr>\n",
              "      <th>0</th>\n",
              "      <td>0.000000</td>\n",
              "      <td>1.000000</td>\n",
              "      <td>0.000000</td>\n",
              "      <td>0.000000</td>\n",
              "      <td>0.250000</td>\n",
              "    </tr>\n",
              "    <tr>\n",
              "      <th>1</th>\n",
              "      <td>0.193966</td>\n",
              "      <td>0.172107</td>\n",
              "      <td>1.000000</td>\n",
              "      <td>1.000000</td>\n",
              "      <td>0.591518</td>\n",
              "    </tr>\n",
              "    <tr>\n",
              "      <th>2</th>\n",
              "      <td>1.000000</td>\n",
              "      <td>0.000000</td>\n",
              "      <td>0.621212</td>\n",
              "      <td>0.193778</td>\n",
              "      <td>0.453748</td>\n",
              "    </tr>\n",
              "  </tbody>\n",
              "</table>\n",
              "</div>\n",
              "      <button class=\"colab-df-convert\" onclick=\"convertToInteractive('df-0461d08a-4665-4123-ae44-70b018c43337')\"\n",
              "              title=\"Convert this dataframe to an interactive table.\"\n",
              "              style=\"display:none;\">\n",
              "        \n",
              "  <svg xmlns=\"http://www.w3.org/2000/svg\" height=\"24px\"viewBox=\"0 0 24 24\"\n",
              "       width=\"24px\">\n",
              "    <path d=\"M0 0h24v24H0V0z\" fill=\"none\"/>\n",
              "    <path d=\"M18.56 5.44l.94 2.06.94-2.06 2.06-.94-2.06-.94-.94-2.06-.94 2.06-2.06.94zm-11 1L8.5 8.5l.94-2.06 2.06-.94-2.06-.94L8.5 2.5l-.94 2.06-2.06.94zm10 10l.94 2.06.94-2.06 2.06-.94-2.06-.94-.94-2.06-.94 2.06-2.06.94z\"/><path d=\"M17.41 7.96l-1.37-1.37c-.4-.4-.92-.59-1.43-.59-.52 0-1.04.2-1.43.59L10.3 9.45l-7.72 7.72c-.78.78-.78 2.05 0 2.83L4 21.41c.39.39.9.59 1.41.59.51 0 1.02-.2 1.41-.59l7.78-7.78 2.81-2.81c.8-.78.8-2.07 0-2.86zM5.41 20L4 18.59l7.72-7.72 1.47 1.35L5.41 20z\"/>\n",
              "  </svg>\n",
              "      </button>\n",
              "      \n",
              "  <style>\n",
              "    .colab-df-container {\n",
              "      display:flex;\n",
              "      flex-wrap:wrap;\n",
              "      gap: 12px;\n",
              "    }\n",
              "\n",
              "    .colab-df-convert {\n",
              "      background-color: #E8F0FE;\n",
              "      border: none;\n",
              "      border-radius: 50%;\n",
              "      cursor: pointer;\n",
              "      display: none;\n",
              "      fill: #1967D2;\n",
              "      height: 32px;\n",
              "      padding: 0 0 0 0;\n",
              "      width: 32px;\n",
              "    }\n",
              "\n",
              "    .colab-df-convert:hover {\n",
              "      background-color: #E2EBFA;\n",
              "      box-shadow: 0px 1px 2px rgba(60, 64, 67, 0.3), 0px 1px 3px 1px rgba(60, 64, 67, 0.15);\n",
              "      fill: #174EA6;\n",
              "    }\n",
              "\n",
              "    [theme=dark] .colab-df-convert {\n",
              "      background-color: #3B4455;\n",
              "      fill: #D2E3FC;\n",
              "    }\n",
              "\n",
              "    [theme=dark] .colab-df-convert:hover {\n",
              "      background-color: #434B5C;\n",
              "      box-shadow: 0px 1px 3px 1px rgba(0, 0, 0, 0.15);\n",
              "      filter: drop-shadow(0px 1px 2px rgba(0, 0, 0, 0.3));\n",
              "      fill: #FFFFFF;\n",
              "    }\n",
              "  </style>\n",
              "\n",
              "      <script>\n",
              "        const buttonEl =\n",
              "          document.querySelector('#df-0461d08a-4665-4123-ae44-70b018c43337 button.colab-df-convert');\n",
              "        buttonEl.style.display =\n",
              "          google.colab.kernel.accessAllowed ? 'block' : 'none';\n",
              "\n",
              "        async function convertToInteractive(key) {\n",
              "          const element = document.querySelector('#df-0461d08a-4665-4123-ae44-70b018c43337');\n",
              "          const dataTable =\n",
              "            await google.colab.kernel.invokeFunction('convertToInteractive',\n",
              "                                                     [key], {});\n",
              "          if (!dataTable) return;\n",
              "\n",
              "          const docLinkHtml = 'Like what you see? Visit the ' +\n",
              "            '<a target=\"_blank\" href=https://colab.research.google.com/notebooks/data_table.ipynb>data table notebook</a>'\n",
              "            + ' to learn more about interactive tables.';\n",
              "          element.innerHTML = '';\n",
              "          dataTable['output_type'] = 'display_data';\n",
              "          await google.colab.output.renderOutput(dataTable, element);\n",
              "          const docLink = document.createElement('div');\n",
              "          docLink.innerHTML = docLinkHtml;\n",
              "          element.appendChild(docLink);\n",
              "        }\n",
              "      </script>\n",
              "    </div>\n",
              "  </div>\n",
              "  "
            ]
          },
          "metadata": {},
          "execution_count": 16
        }
      ]
    },
    {
      "cell_type": "code",
      "source": [
        "X_df_scaled = X_df_scaled.append(X_df_scaled.agg(['mean']))"
      ],
      "metadata": {
        "id": "JjvzsKkg2j7j"
      },
      "execution_count": null,
      "outputs": []
    },
    {
      "cell_type": "code",
      "source": [
        "X_df_scaled"
      ],
      "metadata": {
        "colab": {
          "base_uri": "https://localhost:8080/",
          "height": 238
        },
        "id": "aAwI0nTX2uM6",
        "outputId": "1a4db8d9-55e1-43f0-a074-9affa45001b7"
      },
      "execution_count": null,
      "outputs": [
        {
          "output_type": "execute_result",
          "data": {
            "text/plain": [
              "           GNPA        ROA       CRAR        DER       OPEX  Entity_Mean\n",
              "0      3.293629   1.000000   3.075806   6.328734   6.734170     4.086468\n",
              "1     10.000000   4.315789   8.722581   1.000000   6.938546     6.195383\n",
              "2      2.047091  10.000000   5.688710   4.932255   4.946201     5.522851\n",
              "3      5.578947   6.092105  10.000000   7.559026  10.000000     7.846016\n",
              "4      1.000000   4.197368   1.000000  10.000000   1.000000     3.439474\n",
              "mean   4.383934   5.121053   5.697419   5.964003   5.923783     5.418038"
            ],
            "text/html": [
              "\n",
              "  <div id=\"df-06129bb9-9fff-4abe-b5e2-5a279d81506c\">\n",
              "    <div class=\"colab-df-container\">\n",
              "      <div>\n",
              "<style scoped>\n",
              "    .dataframe tbody tr th:only-of-type {\n",
              "        vertical-align: middle;\n",
              "    }\n",
              "\n",
              "    .dataframe tbody tr th {\n",
              "        vertical-align: top;\n",
              "    }\n",
              "\n",
              "    .dataframe thead th {\n",
              "        text-align: right;\n",
              "    }\n",
              "</style>\n",
              "<table border=\"1\" class=\"dataframe\">\n",
              "  <thead>\n",
              "    <tr style=\"text-align: right;\">\n",
              "      <th></th>\n",
              "      <th>GNPA</th>\n",
              "      <th>ROA</th>\n",
              "      <th>CRAR</th>\n",
              "      <th>DER</th>\n",
              "      <th>OPEX</th>\n",
              "      <th>Entity_Mean</th>\n",
              "    </tr>\n",
              "  </thead>\n",
              "  <tbody>\n",
              "    <tr>\n",
              "      <th>0</th>\n",
              "      <td>3.293629</td>\n",
              "      <td>1.000000</td>\n",
              "      <td>3.075806</td>\n",
              "      <td>6.328734</td>\n",
              "      <td>6.734170</td>\n",
              "      <td>4.086468</td>\n",
              "    </tr>\n",
              "    <tr>\n",
              "      <th>1</th>\n",
              "      <td>10.000000</td>\n",
              "      <td>4.315789</td>\n",
              "      <td>8.722581</td>\n",
              "      <td>1.000000</td>\n",
              "      <td>6.938546</td>\n",
              "      <td>6.195383</td>\n",
              "    </tr>\n",
              "    <tr>\n",
              "      <th>2</th>\n",
              "      <td>2.047091</td>\n",
              "      <td>10.000000</td>\n",
              "      <td>5.688710</td>\n",
              "      <td>4.932255</td>\n",
              "      <td>4.946201</td>\n",
              "      <td>5.522851</td>\n",
              "    </tr>\n",
              "    <tr>\n",
              "      <th>3</th>\n",
              "      <td>5.578947</td>\n",
              "      <td>6.092105</td>\n",
              "      <td>10.000000</td>\n",
              "      <td>7.559026</td>\n",
              "      <td>10.000000</td>\n",
              "      <td>7.846016</td>\n",
              "    </tr>\n",
              "    <tr>\n",
              "      <th>4</th>\n",
              "      <td>1.000000</td>\n",
              "      <td>4.197368</td>\n",
              "      <td>1.000000</td>\n",
              "      <td>10.000000</td>\n",
              "      <td>1.000000</td>\n",
              "      <td>3.439474</td>\n",
              "    </tr>\n",
              "    <tr>\n",
              "      <th>mean</th>\n",
              "      <td>4.383934</td>\n",
              "      <td>5.121053</td>\n",
              "      <td>5.697419</td>\n",
              "      <td>5.964003</td>\n",
              "      <td>5.923783</td>\n",
              "      <td>5.418038</td>\n",
              "    </tr>\n",
              "  </tbody>\n",
              "</table>\n",
              "</div>\n",
              "      <button class=\"colab-df-convert\" onclick=\"convertToInteractive('df-06129bb9-9fff-4abe-b5e2-5a279d81506c')\"\n",
              "              title=\"Convert this dataframe to an interactive table.\"\n",
              "              style=\"display:none;\">\n",
              "        \n",
              "  <svg xmlns=\"http://www.w3.org/2000/svg\" height=\"24px\"viewBox=\"0 0 24 24\"\n",
              "       width=\"24px\">\n",
              "    <path d=\"M0 0h24v24H0V0z\" fill=\"none\"/>\n",
              "    <path d=\"M18.56 5.44l.94 2.06.94-2.06 2.06-.94-2.06-.94-.94-2.06-.94 2.06-2.06.94zm-11 1L8.5 8.5l.94-2.06 2.06-.94-2.06-.94L8.5 2.5l-.94 2.06-2.06.94zm10 10l.94 2.06.94-2.06 2.06-.94-2.06-.94-.94-2.06-.94 2.06-2.06.94z\"/><path d=\"M17.41 7.96l-1.37-1.37c-.4-.4-.92-.59-1.43-.59-.52 0-1.04.2-1.43.59L10.3 9.45l-7.72 7.72c-.78.78-.78 2.05 0 2.83L4 21.41c.39.39.9.59 1.41.59.51 0 1.02-.2 1.41-.59l7.78-7.78 2.81-2.81c.8-.78.8-2.07 0-2.86zM5.41 20L4 18.59l7.72-7.72 1.47 1.35L5.41 20z\"/>\n",
              "  </svg>\n",
              "      </button>\n",
              "      \n",
              "  <style>\n",
              "    .colab-df-container {\n",
              "      display:flex;\n",
              "      flex-wrap:wrap;\n",
              "      gap: 12px;\n",
              "    }\n",
              "\n",
              "    .colab-df-convert {\n",
              "      background-color: #E8F0FE;\n",
              "      border: none;\n",
              "      border-radius: 50%;\n",
              "      cursor: pointer;\n",
              "      display: none;\n",
              "      fill: #1967D2;\n",
              "      height: 32px;\n",
              "      padding: 0 0 0 0;\n",
              "      width: 32px;\n",
              "    }\n",
              "\n",
              "    .colab-df-convert:hover {\n",
              "      background-color: #E2EBFA;\n",
              "      box-shadow: 0px 1px 2px rgba(60, 64, 67, 0.3), 0px 1px 3px 1px rgba(60, 64, 67, 0.15);\n",
              "      fill: #174EA6;\n",
              "    }\n",
              "\n",
              "    [theme=dark] .colab-df-convert {\n",
              "      background-color: #3B4455;\n",
              "      fill: #D2E3FC;\n",
              "    }\n",
              "\n",
              "    [theme=dark] .colab-df-convert:hover {\n",
              "      background-color: #434B5C;\n",
              "      box-shadow: 0px 1px 3px 1px rgba(0, 0, 0, 0.15);\n",
              "      filter: drop-shadow(0px 1px 2px rgba(0, 0, 0, 0.3));\n",
              "      fill: #FFFFFF;\n",
              "    }\n",
              "  </style>\n",
              "\n",
              "      <script>\n",
              "        const buttonEl =\n",
              "          document.querySelector('#df-06129bb9-9fff-4abe-b5e2-5a279d81506c button.colab-df-convert');\n",
              "        buttonEl.style.display =\n",
              "          google.colab.kernel.accessAllowed ? 'block' : 'none';\n",
              "\n",
              "        async function convertToInteractive(key) {\n",
              "          const element = document.querySelector('#df-06129bb9-9fff-4abe-b5e2-5a279d81506c');\n",
              "          const dataTable =\n",
              "            await google.colab.kernel.invokeFunction('convertToInteractive',\n",
              "                                                     [key], {});\n",
              "          if (!dataTable) return;\n",
              "\n",
              "          const docLinkHtml = 'Like what you see? Visit the ' +\n",
              "            '<a target=\"_blank\" href=https://colab.research.google.com/notebooks/data_table.ipynb>data table notebook</a>'\n",
              "            + ' to learn more about interactive tables.';\n",
              "          element.innerHTML = '';\n",
              "          dataTable['output_type'] = 'display_data';\n",
              "          await google.colab.output.renderOutput(dataTable, element);\n",
              "          const docLink = document.createElement('div');\n",
              "          docLink.innerHTML = docLinkHtml;\n",
              "          element.appendChild(docLink);\n",
              "        }\n",
              "      </script>\n",
              "    </div>\n",
              "  </div>\n",
              "  "
            ]
          },
          "metadata": {},
          "execution_count": 91
        }
      ]
    },
    {
      "cell_type": "code",
      "source": [
        "from sklearn.cluster import KMeans\n",
        "wcss = []\n",
        "for i in range(1,2):\n",
        "    kmeans = KMeans(n_clusters = i, init = 'k-means++', random_state = 42)\n",
        "    kmeans.fit(X_df_scaled)\n",
        "    wcss.append(kmeans.inertia_)\n",
        "plt.plot(range(1,2), wcss)\n",
        "plt.title('Elbow Method')\n",
        "plt.xlabel('Number of clusters')\n",
        "plt.ylabel('wcss')"
      ],
      "metadata": {
        "colab": {
          "base_uri": "https://localhost:8080/",
          "height": 309
        },
        "id": "bSnJLzbBQ9bH",
        "outputId": "dc2de6de-ba61-4883-dd71-79174ca26c23"
      },
      "execution_count": null,
      "outputs": [
        {
          "output_type": "execute_result",
          "data": {
            "text/plain": [
              "Text(0, 0.5, 'wcss')"
            ]
          },
          "metadata": {},
          "execution_count": 8
        },
        {
          "output_type": "display_data",
          "data": {
            "text/plain": [
              "<Figure size 432x288 with 1 Axes>"
            ],
            "image/png": "[encoded data removed]"
          },
          "metadata": {
            "needs_background": "light"
          }
        }
      ]
    },
    {
      "cell_type": "code",
      "source": [
        "kmeans = KMeans(n_clusters = 2, init = 'k-means++', random_state = 42)\n",
        "y_kmeans = kmeans.fit_predict(X_df_scaled)"
      ],
      "metadata": {
        "id": "zTCyjDn8RB_3"
      },
      "execution_count": null,
      "outputs": []
    },
    {
      "cell_type": "code",
      "source": [
        "print(y_kmeans)"
      ],
      "metadata": {
        "colab": {
          "base_uri": "https://localhost:8080/"
        },
        "id": "4R_uIJAEVHu8",
        "outputId": "bd6e92c4-b65b-4824-9be5-82a070bb9b77"
      },
      "execution_count": null,
      "outputs": [
        {
          "output_type": "stream",
          "name": "stdout",
          "text": [
            "[1 0 0]\n"
          ]
        }
      ]
    },
    {
      "cell_type": "code",
      "source": [
        "from sklearn.ensemble import RandomForestClassifier\n",
        "from sklearn.preprocessing import label_binarize\n",
        "kmeanModel = KMeans(n_clusters=4)\n",
        "y=kmeanModel.fit(X_df_scaled).labels_\n",
        "y = label_binarize(y, classes=[0,1,2,3])\n",
        "clf=RandomForestClassifier()\n",
        "clf.fit(df450,y)"
      ],
      "metadata": {
        "colab": {
          "base_uri": "https://localhost:8080/"
        },
        "id": "k7G9I12kz3ir",
        "outputId": "96102046-8a63-48ef-b49f-0ba5439d5b37"
      },
      "execution_count": null,
      "outputs": [
        {
          "output_type": "execute_result",
          "data": {
            "text/plain": [
              "RandomForestClassifier()"
            ]
          },
          "metadata": {},
          "execution_count": 8
        }
      ]
    },
    {
      "cell_type": "code",
      "source": [
        "pip install shap"
      ],
      "metadata": {
        "colab": {
          "base_uri": "https://localhost:8080/"
        },
        "id": "vbXZLJO_7shf",
        "outputId": "b2b1ee5d-5a7b-48b2-c887-11cc6f309320"
      },
      "execution_count": null,
      "outputs": [
        {
          "output_type": "stream",
          "name": "stdout",
          "text": [
            "Collecting shap\n",
            "  Downloading shap-0.40.0-cp37-cp37m-manylinux2010_x86_64.whl (564 kB)\n",
            "\u001b[?25l\r\u001b[K     |▋                               | 10 kB 19.8 MB/s eta 0:00:01\r\u001b[K     |█▏                              | 20 kB 24.5 MB/s eta 0:00:01\r\u001b[K     |█▊                              | 30 kB 24.8 MB/s eta 0:00:01\r\u001b[K     |██▎                             | 40 kB 18.2 MB/s eta 0:00:01\r\u001b[K     |███                             | 51 kB 6.8 MB/s eta 0:00:01\r\u001b[K     |███▌                            | 61 kB 7.9 MB/s eta 0:00:01\r\u001b[K     |████                            | 71 kB 8.4 MB/s eta 0:00:01\r\u001b[K     |████▋                           | 81 kB 8.5 MB/s eta 0:00:01\r\u001b[K     |█████▏                          | 92 kB 9.4 MB/s eta 0:00:01\r\u001b[K     |█████▉                          | 102 kB 7.5 MB/s eta 0:00:01\r\u001b[K     |██████▍                         | 112 kB 7.5 MB/s eta 0:00:01\r\u001b[K     |███████                         | 122 kB 7.5 MB/s eta 0:00:01\r\u001b[K     |███████▌                        | 133 kB 7.5 MB/s eta 0:00:01\r\u001b[K     |████████▏                       | 143 kB 7.5 MB/s eta 0:00:01\r\u001b[K     |████████▊                       | 153 kB 7.5 MB/s eta 0:00:01\r\u001b[K     |█████████▎                      | 163 kB 7.5 MB/s eta 0:00:01\r\u001b[K     |█████████▉                      | 174 kB 7.5 MB/s eta 0:00:01\r\u001b[K     |██████████▍                     | 184 kB 7.5 MB/s eta 0:00:01\r\u001b[K     |███████████                     | 194 kB 7.5 MB/s eta 0:00:01\r\u001b[K     |███████████▋                    | 204 kB 7.5 MB/s eta 0:00:01\r\u001b[K     |████████████▏                   | 215 kB 7.5 MB/s eta 0:00:01\r\u001b[K     |████████████▊                   | 225 kB 7.5 MB/s eta 0:00:01\r\u001b[K     |█████████████▍                  | 235 kB 7.5 MB/s eta 0:00:01\r\u001b[K     |██████████████                  | 245 kB 7.5 MB/s eta 0:00:01\r\u001b[K     |██████████████▌                 | 256 kB 7.5 MB/s eta 0:00:01\r\u001b[K     |███████████████                 | 266 kB 7.5 MB/s eta 0:00:01\r\u001b[K     |███████████████▋                | 276 kB 7.5 MB/s eta 0:00:01\r\u001b[K     |████████████████▎               | 286 kB 7.5 MB/s eta 0:00:01\r\u001b[K     |████████████████▉               | 296 kB 7.5 MB/s eta 0:00:01\r\u001b[K     |█████████████████▍              | 307 kB 7.5 MB/s eta 0:00:01\r\u001b[K     |██████████████████              | 317 kB 7.5 MB/s eta 0:00:01\r\u001b[K     |██████████████████▋             | 327 kB 7.5 MB/s eta 0:00:01\r\u001b[K     |███████████████████▏            | 337 kB 7.5 MB/s eta 0:00:01\r\u001b[K     |███████████████████▊            | 348 kB 7.5 MB/s eta 0:00:01\r\u001b[K     |████████████████████▎           | 358 kB 7.5 MB/s eta 0:00:01\r\u001b[K     |████████████████████▉           | 368 kB 7.5 MB/s eta 0:00:01\r\u001b[K     |█████████████████████▌          | 378 kB 7.5 MB/s eta 0:00:01\r\u001b[K     |██████████████████████          | 389 kB 7.5 MB/s eta 0:00:01\r\u001b[K     |██████████████████████▋         | 399 kB 7.5 MB/s eta 0:00:01\r\u001b[K     |███████████████████████▏        | 409 kB 7.5 MB/s eta 0:00:01\r\u001b[K     |███████████████████████▉        | 419 kB 7.5 MB/s eta 0:00:01\r\u001b[K     |████████████████████████▍       | 430 kB 7.5 MB/s eta 0:00:01\r\u001b[K     |█████████████████████████       | 440 kB 7.5 MB/s eta 0:00:01\r\u001b[K     |█████████████████████████▌      | 450 kB 7.5 MB/s eta 0:00:01\r\u001b[K     |██████████████████████████      | 460 kB 7.5 MB/s eta 0:00:01\r\u001b[K     |██████████████████████████▊     | 471 kB 7.5 MB/s eta 0:00:01\r\u001b[K     |███████████████████████████▎    | 481 kB 7.5 MB/s eta 0:00:01\r\u001b[K     |███████████████████████████▉    | 491 kB 7.5 MB/s eta 0:00:01\r\u001b[K     |████████████████████████████▍   | 501 kB 7.5 MB/s eta 0:00:01\r\u001b[K     |█████████████████████████████   | 512 kB 7.5 MB/s eta 0:00:01\r\u001b[K     |█████████████████████████████▋  | 522 kB 7.5 MB/s eta 0:00:01\r\u001b[K     |██████████████████████████████▏ | 532 kB 7.5 MB/s eta 0:00:01\r\u001b[K     |██████████████████████████████▊ | 542 kB 7.5 MB/s eta 0:00:01\r\u001b[K     |███████████████████████████████▎| 552 kB 7.5 MB/s eta 0:00:01\r\u001b[K     |████████████████████████████████| 563 kB 7.5 MB/s eta 0:00:01\r\u001b[K     |████████████████████████████████| 564 kB 7.5 MB/s \n",
            "\u001b[?25hRequirement already satisfied: packaging>20.9 in /usr/local/lib/python3.7/dist-packages (from shap) (21.3)\n",
            "Requirement already satisfied: scikit-learn in /usr/local/lib/python3.7/dist-packages (from shap) (1.0.2)\n",
            "Collecting slicer==0.0.7\n",
            "  Downloading slicer-0.0.7-py3-none-any.whl (14 kB)\n",
            "Requirement already satisfied: tqdm>4.25.0 in /usr/local/lib/python3.7/dist-packages (from shap) (4.64.0)\n",
            "Requirement already satisfied: pandas in /usr/local/lib/python3.7/dist-packages (from shap) (1.3.5)\n",
            "Requirement already satisfied: numba in /usr/local/lib/python3.7/dist-packages (from shap) (0.51.2)\n",
            "Requirement already satisfied: scipy in /usr/local/lib/python3.7/dist-packages (from shap) (1.4.1)\n",
            "Requirement already satisfied: numpy in /usr/local/lib/python3.7/dist-packages (from shap) (1.21.6)\n",
            "Requirement already satisfied: cloudpickle in /usr/local/lib/python3.7/dist-packages (from shap) (1.3.0)\n",
            "Requirement already satisfied: pyparsing!=3.0.5,>=2.0.2 in /usr/local/lib/python3.7/dist-packages (from packaging>20.9->shap) (3.0.8)\n",
            "Requirement already satisfied: llvmlite<0.35,>=0.34.0.dev0 in /usr/local/lib/python3.7/dist-packages (from numba->shap) (0.34.0)\n",
            "Requirement already satisfied: setuptools in /usr/local/lib/python3.7/dist-packages (from numba->shap) (57.4.0)\n",
            "Requirement already satisfied: python-dateutil>=2.7.3 in /usr/local/lib/python3.7/dist-packages (from pandas->shap) (2.8.2)\n",
            "Requirement already satisfied: pytz>=2017.3 in /usr/local/lib/python3.7/dist-packages (from pandas->shap) (2022.1)\n",
            "Requirement already satisfied: six>=1.5 in /usr/local/lib/python3.7/dist-packages (from python-dateutil>=2.7.3->pandas->shap) (1.15.0)\n",
            "Requirement already satisfied: joblib>=0.11 in /usr/local/lib/python3.7/dist-packages (from scikit-learn->shap) (1.1.0)\n",
            "Requirement already satisfied: threadpoolctl>=2.0.0 in /usr/local/lib/python3.7/dist-packages (from scikit-learn->shap) (3.1.0)\n",
            "Installing collected packages: slicer, shap\n",
            "Successfully installed shap-0.40.0 slicer-0.0.7\n"
          ]
        }
      ]
    },
    {
      "cell_type": "code",
      "source": [
        "import shap\n",
        "explainer= shap.TreeExplainer(clf)\n",
        "shap_values = explainer(df450).values"
      ],
      "metadata": {
        "id": "gVOHLVK5z3UM"
      },
      "execution_count": null,
      "outputs": []
    },
    {
      "cell_type": "code",
      "source": [
        "#shap.summary_plot(shap_values, X_df_scaled)"
      ],
      "metadata": {
        "id": "qQRg9TX8z3Pm"
      },
      "execution_count": null,
      "outputs": []
    }
  ]
}